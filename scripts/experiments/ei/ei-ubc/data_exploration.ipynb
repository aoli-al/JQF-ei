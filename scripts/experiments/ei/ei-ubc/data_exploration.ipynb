{
 "cells": [
  {
   "cell_type": "code",
   "execution_count": null,
   "metadata": {},
   "outputs": [],
   "source": [
    "import seaborn as sns\n",
    "import sys\n",
    "import pandas as pd\n",
    "import matplotlib.pyplot as plt\n",
    "import numpy as np\n",
    "\n",
    "sys.path.append(r'..')\n",
    "sys.path.append(r'.')\n",
    "%load_ext autoreload\n",
    "%autoreload 2\n",
    "\n",
    "from process_data import process_mutation_data\n",
    "from statistical_test import *"
   ]
  },
  {
   "cell_type": "code",
   "execution_count": null,
   "metadata": {},
   "outputs": [],
   "source": [
    "def sample_violin_plot():\n",
    "    df = sns.load_dataset(\"titanic\")\n",
    "    custom_palette = {'no': '#0072B2', 'asd': '#56B4E9', 'yes': '#009E73'}\n",
    "    ax = sns.violinplot(data=df, x=\"class\", y=\"age\", hue=\"alive\", split=True, inner='quart', width=0.8, linewidth=0.8, palette=custom_palette)\n",
    "    sns.move_legend(ax, \"lower center\", bbox_to_anchor=(.5, 1), ncol=3, title=None, frameon=False, labels=['a', 'b'])\n",
    "    for l in ax.lines:\n",
    "        l.set_linestyle(':')\n",
    "        l.set_linewidth(1)\n",
    "        l.set_color('black')\n",
    "        l.set_alpha(0.8)\n",
    "    for l in ax.lines[1::3]:\n",
    "        l.set_linestyle('--')\n",
    "        l.set_linewidth(1.4)\n",
    "        l.set_color('#F7F056')\n",
    "        l.set_alpha(0.8)\n",
    "    ax.set(xlabel='common xlabel', ylabel='common ylabel')"
   ]
  },
  {
   "cell_type": "code",
   "execution_count": null,
   "metadata": {},
   "outputs": [],
   "source": [
    "def violin_plot_for_mutation_distance(df, experiment_name, fig_name, split=True, inner='quart', density_norm='area', width=0.8, x_order=None):\n",
    "    # tol palette, color-blind friendly\n",
    "    custom_palette = {'Zest-all': '#88CCEE', 'Zest-saved': '#6699CC', 'EI-all': '#44AA99'}\n",
    "    tmp_ax = sns.violinplot(data=df, x='benchmark_name', y='mutation', hue='algorithm', \n",
    "                            split=split, inner=inner, density_norm=density_norm, palette=custom_palette, \n",
    "                            width=width, linewidth=1.0, order=x_order)\n",
    "    sns.move_legend(tmp_ax, \"lower center\", bbox_to_anchor=(.5, 1), ncol=4, title=None, frameon=False)\n",
    "    for l in tmp_ax.lines:\n",
    "        l.set_linestyle(':')\n",
    "        l.set_linewidth(1)\n",
    "        l.set_color('black')\n",
    "        l.set_alpha(0.8)\n",
    "    for l in tmp_ax.lines[1::3]:\n",
    "        l.set_linestyle('-')\n",
    "        l.set_linewidth(1.6)\n",
    "        l.set_color('#F7F056')\n",
    "        l.set_alpha(0.8)\n",
    "        \n",
    "    # get rid of ticks for empty columns (levels)\n",
    "    if x_order:\n",
    "        x_arr = np.array(x_order)\n",
    "        position_arr = np.array(range(0, len(x_order)))\n",
    "        positions = [p for p, order in zip(position_arr, x_arr) if 'NA' not in order]\n",
    "        filtered_x = [e for e in list(x_order) if 'NA' not in e]\n",
    "        tmp_ax.set_xticks(positions)\n",
    "        tmp_ax.set_xticklabels(filtered_x)\n",
    "\n",
    "    tmp_ax.set(xlabel='Benchmark', ylabel='Mutation Distance from Parent Input (%)')\n",
    "    #tmp_ax.grid(False)\n",
    "    plt.savefig('./figs/{}_{}.png'.format(experiment_name, fig_name), dpi=300)"
   ]
  },
  {
   "cell_type": "code",
   "execution_count": null,
   "metadata": {},
   "outputs": [],
   "source": [
    "def box_plot_for_mutation_distance(df, experiment_name, fig_name):\n",
    "    tmp_ax = sns.boxplot(data=df, x='benchmark_name', y='mutation', hue='algorithm')\n",
    "    sns.move_legend(tmp_ax, \"lower center\", bbox_to_anchor=(.5, 1), ncol=3, title=None, frameon=False)\n",
    "    plt.savefig('./figs/{}_{}.png'.format(experiment_name, fig_name), dpi=300)"
   ]
  },
  {
   "cell_type": "code",
   "execution_count": null,
   "metadata": {},
   "outputs": [],
   "source": [
    "def beautify_stats_table(groupby):\n",
    "    stats = groupby.describe()\n",
    "    processed_stats = stats.loc[:, (slice(None), ['', 'count', '50%', 'mean', 'std', 'min', 'max'])].rename(columns={'50%':'median'})\n",
    "    return processed_stats\n",
    "\n",
    "def bar_plot_for_median_mutation_distance(stats_df, experiment_name, fig_name):\n",
    "    # get the median values\n",
    "    median_mutation_df = stats_df.loc[:, (slice(None), ['', 'median'])]\n",
    "    # flatten the index\n",
    "    median_mutation_df.columns = median_mutation_df.columns.get_level_values(0)\n",
    "    # reorder the index \n",
    "    #median_mutation_df = median_mutation_df.reindex([0, 5, 6, 1, 2, 3, 4, 7, 12, 13, 8, 9, 10, 11]).reset_index(drop=True)\n",
    "    # bar plot\n",
    "    tmp_ax = sns.barplot(median_mutation_df, x='benchmark_name', y='mutation', hue='algorithm')\n",
    "    sns.move_legend(tmp_ax, \"lower center\", bbox_to_anchor=(.5, 1), ncol=3, title=None, frameon=False)\n",
    "    plt.savefig('./figs/{}_{}.png'.format(experiment_name, fig_name), dpi=300)"
   ]
  },
  {
   "cell_type": "code",
   "execution_count": null,
   "metadata": {},
   "outputs": [],
   "source": [
    "# statistical tests\n",
    "def mann_whitney_u_test_for_mutation_distance(df, groupby, alg1_name, alg2_name):\n",
    "    # TODO: remove either df or groupby\n",
    "    result_dict = {}\n",
    "    test_names = ['two-sided', 'less']\n",
    "    measures = ['p', 'A_12', 'U1', 'U2', 'r1', 'r2']\n",
    "    indices = []\n",
    "    for name in test_names:\n",
    "        indices += ['{}_{}'.format(name, measure) for measure in measures]\n",
    "\n",
    "    # Warning: large and unequal sample sizes will result in timeout; debugging required\n",
    "    for benchmark_name in df.benchmark_name.unique():\n",
    "        print('testing {}...'.format(benchmark_name))\n",
    "        alg1_data = groupby.get_group((alg1_name, benchmark_name)).mutation.values\n",
    "        alg2_data = groupby.get_group((alg2_name, benchmark_name)).mutation.values\n",
    "        print('sample1 size: {}, sample2 size: {}'.format(len(alg1_data), len(alg2_data)))\n",
    "        result_two_sided = mann_whitney_u_test(alg1_data, alg2_data, alternative=test_names[0], verbose=False)\n",
    "        result_one_sided = mann_whitney_u_test(alg1_data, alg2_data, alternative=test_names[1], verbose=False)\n",
    "        result_dict[benchmark_name] = list(result_two_sided) + list(result_one_sided)\n",
    "    # create the dataframe\n",
    "    stats_df = pd.DataFrame(result_dict, index=indices) \n",
    "    return stats_df"
   ]
  },
  {
   "cell_type": "markdown",
   "metadata": {},
   "source": [
    "# RQ1: How destructive are Zest's mutations in general? Are disruptive mutations beneficial for fuzzing?"
   ]
  },
  {
   "cell_type": "code",
   "execution_count": null,
   "metadata": {},
   "outputs": [],
   "source": [
    "experiment_name = 'ei-m510-mutation'\n",
    "#process_mutation_data('/data/aoli/results-JQF/{}/'.format(experiment_name), [False, True], [\"testWithGenerator\"], [\"zest\", \"ei-no-havoc\"])\n",
    "# load the df from pickle\n",
    "mutation_df = pd.read_pickle('./mutation.pkl')"
   ]
  },
  {
   "cell_type": "code",
   "execution_count": null,
   "metadata": {},
   "outputs": [],
   "source": [
    "new_label_names = {'zest-testWithGenerator': 'Zest-all', 'zest-testWithGenerator-saved_only': 'Zest-saved', 'ei-no-havoc-testWithGenerator': 'EI-all', 'ei-no-havoc-testWithGenerator-saved_only': 'EI-saved'}\n",
    "mutation_df['algorithm'] = mutation_df['algorithm'].map(new_label_names)\n",
    "print(mutation_df['algorithm'].unique())"
   ]
  },
  {
   "cell_type": "code",
   "execution_count": null,
   "metadata": {},
   "outputs": [],
   "source": [
    "zest_df = mutation_df[mutation_df['algorithm'].str.contains('Zest')]\n",
    "#ei_df = mutation_df[~mutation_df.index.isin(zest_df.index)]\n",
    "all_input_df = mutation_df[mutation_df['algorithm'].str.contains('all')]"
   ]
  },
  {
   "cell_type": "code",
   "execution_count": null,
   "metadata": {},
   "outputs": [],
   "source": [
    "all_input_df = all_input_df.drop(all_input_df[all_input_df.benchmark_name == 'chocopy'].index)\n",
    "print(all_input_df.benchmark_name.unique())"
   ]
  },
  {
   "cell_type": "code",
   "execution_count": null,
   "metadata": {},
   "outputs": [],
   "source": [
    "# zest all inputs vs. zest saved inputs\n",
    "violin_plot_for_mutation_distance(zest_df, experiment_name, 'rq1_zest_all_vs_saved', width=1.0)"
   ]
  },
  {
   "cell_type": "code",
   "execution_count": null,
   "metadata": {},
   "outputs": [],
   "source": [
    "x_order = ('ant', 'maven', 'rhino', 'closure', 'gson', 'NA1', 'jackson', 'NA2', 'jython', 'NA3')\n",
    "violin_plot_for_mutation_distance(all_input_df, experiment_name, 'rq2_zest_vs_ei', width=1.8, x_order=x_order)"
   ]
  },
  {
   "cell_type": "code",
   "execution_count": null,
   "metadata": {},
   "outputs": [],
   "source": [
    "# stats table \n",
    "groupby = all_input_df.groupby(['algorithm', 'benchmark_name'], as_index=False)\n",
    "all_input_stats = beautify_stats_table(groupby)\n",
    "all_input_stats\n",
    "#bar_plot_for_median_mutation_distance(all_input_stats, experiment_name, 'all_input_bar_plot')\n",
    "#box_plot_for_mutation_distance(zest_df, experiment_name, 'zest_box_plot')"
   ]
  }
 ],
 "metadata": {
  "kernelspec": {
   "display_name": "Python 3",
   "language": "python",
   "name": "python3"
  },
  "language_info": {
   "codemirror_mode": {
    "name": "ipython",
    "version": 3
   },
   "file_extension": ".py",
   "mimetype": "text/x-python",
   "name": "python",
   "nbconvert_exporter": "python",
   "pygments_lexer": "ipython3",
   "version": "3.8.10"
  }
 },
 "nbformat": 4,
 "nbformat_minor": 2
}
