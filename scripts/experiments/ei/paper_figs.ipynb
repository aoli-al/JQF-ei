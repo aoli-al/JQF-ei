{
 "cells": [
  {
   "cell_type": "code",
   "execution_count": 8,
   "metadata": {},
   "outputs": [],
   "source": [
    "import matplotlib.pyplot as plt\n",
    "import numpy as np\n",
    "import numpy.polynomial.polynomial as poly\n",
    "import seaborn as sns\n",
    "import re\n",
    "import os\n",
    "import json\n",
    "import re\n",
    "import jsonpickle\n",
    "import sys\n",
    "import graphviz\n",
    "import glob\n",
    "from statistics import mean, stdev, median\n",
    "sys.path.append(r'..')\n",
    "\n",
    "output_dir = os.path.join(os.path.expanduser(\"~\"), \"repos/ei-paper/figs\")\n",
    "# data_dir = os.path.join(os.path.expanduser(\"~\"), \"repos/cloudlab/results-JQF/merged\")\n",
    "# EI data\n",
    "# data_dir = os.path.join(os.path.expanduser(\"~\"), \"/usr0/home/aoli/repos/cloudlab/results-JQF/ei-48h-12-12/\")\n",
    "\n",
    "# Mix Data\n",
    "data_dirs = [\n",
    "    os.path.join(os.path.expanduser(\"~\"),\n",
    "                 \"/usr0/home/aoli/repos/cloudlab/results-JQF/ei-48h-12-19/\"),\n",
    "    os.path.join(os.path.expanduser(\"~\"),\n",
    "                 \"/usr0/home/aoli/repos/cloudlab/results-JQF/ei-48h-12-12/\"),\n",
    "    os.path.join(os.path.expanduser(\"~\"),\n",
    "                 \"/usr0/home/aoli/repos/cloudlab/results-JQF/ei-48h-12-21/\"),\n",
    "    #  os.path.join(os.path.expanduser(\"~\"), \"/usr0/home/aoli/repos/cloudlab/results-JQF/ei-48h-11-16\")\n",
    "]\n"
   ]
  },
  {
   "cell_type": "code",
   "execution_count": 9,
   "metadata": {},
   "outputs": [
    {
     "name": "stdout",
     "output_type": "stream",
     "text": [
      "The autoreload extension is already loaded. To reload it, use:\n",
      "  %reload_ext autoreload\n",
      "Identified algorithms:  {'ei-fast', 'zest-fast'}\n"
     ]
    }
   ],
   "source": [
    "%load_ext autoreload\n",
    "%autoreload 2\n",
    "import sns_configs\n",
    "from process_data import identify_algorithms\n",
    "\n",
    "algorithms = identify_algorithms(data_dirs)\n",
    "print(\"Identified algorithms: \", algorithms)"
   ]
  },
  {
   "cell_type": "code",
   "execution_count": 10,
   "metadata": {},
   "outputs": [
    {
     "name": "stdout",
     "output_type": "stream",
     "text": [
      "ttest for ant Ttest_indResult(statistic=-1.6425204652203864, pvalue=0.11783657229721967)\n",
      "ttest for maven Ttest_indResult(statistic=-3.141809628531521, pvalue=0.005638693988275254)\n",
      "ttest for bcel Ttest_indResult(statistic=-6.098208838803977, pvalue=9.222373988372849e-06)\n",
      "ttest for rhino Ttest_indResult(statistic=1.2959692719688876, pvalue=0.21135806652713132)\n",
      "ttest for closure Ttest_indResult(statistic=2.382251026009137, pvalue=0.02844321128655169)\n",
      "Cov-All\n",
      "\\begin{array}{l | l | l | l | l} \\hline\n",
      "    \\verb|Dataset| & \\verb|       EI        | & \\verb|      Zest      | & \\verb|       EI        | & \\verb|      Zest      | \\\\ \\hline\n",
      "    \\hline\n",
      "    ant     & \\cellgreen{5801}  &             5794 &              5727 & \\cellgreen{5744} \\\\ \\hline\n",
      "    maven   & \\cellgreen{4149}  & \\cellgreen{4149} &              4132 & \\cellgreen{4135} \\\\ \\hline\n",
      "    bcel    &              4000 & \\cellgreen{4001} &              3898 & \\cellgreen{3945} \\\\ \\hline\n",
      "    rhino   & \\cellgreen{8609}  &             8570 & \\cellgreen{8285}  &             8233 \\\\ \\hline\n",
      "    closure & \\cellgreen{25530} &            25513 & \\cellgreen{24834} &            24561 \\\\ \\hline\n",
      "\\end{array}\n",
      "Cov-Avg\n",
      "\\begin{array}{l | l | l} \\hline\n",
      "    \\verb|Dataset| & \\verb|       EI        | & \\verb|      Zest      | \\\\ \\hline\n",
      "    \\hline\n",
      "    ant     &              5727 & \\cellgreen{5744} \\\\ \\hline\n",
      "    maven   &              4132 & \\cellgreen{4135} \\\\ \\hline\n",
      "    bcel    &              3898 & \\cellgreen{3945} \\\\ \\hline\n",
      "    rhino   & \\cellgreen{8285}  &             8233 \\\\ \\hline\n",
      "    closure & \\cellgreen{24834} &            24561 \\\\ \\hline\n",
      "\\end{array}\n",
      "Cov-Unique-Union\n",
      "\\begin{array}{l | l | l} \\hline\n",
      "    \\verb|Dataset| & \\verb|      EI       | & \\verb|     Zest     | \\\\ \\hline\n",
      "    \\hline\n",
      "    ant     & \\cellgreen{13}  &              6 \\\\ \\hline\n",
      "    maven   & \\cellgreen{0}   & \\cellgreen{0}  \\\\ \\hline\n",
      "    bcel    &              14 & \\cellgreen{15} \\\\ \\hline\n",
      "    rhino   & \\cellgreen{93}  &             54 \\\\ \\hline\n",
      "    closure & \\cellgreen{145} &            128 \\\\ \\hline\n",
      "\\end{array}\n",
      "Cov-Unique-Intersection\n",
      "\\begin{array}{l | l | l} \\hline\n",
      "    \\verb|Dataset| & \\verb|      EI       | & \\verb|     Zest      | \\\\ \\hline\n",
      "    \\hline\n",
      "    ant     &               4 & \\cellgreen{91}  \\\\ \\hline\n",
      "    maven   &               0 & \\cellgreen{34}  \\\\ \\hline\n",
      "    bcel    &              38 & \\cellgreen{330} \\\\ \\hline\n",
      "    rhino   & \\cellgreen{153} &              86 \\\\ \\hline\n",
      "    closure & \\cellgreen{889} &              64 \\\\ \\hline\n",
      "\\end{array}\n"
     ]
    },
    {
     "data": {
      "text/plain": [
       "<Figure size 288x216 with 0 Axes>"
      ]
     },
     "metadata": {},
     "output_type": "display_data"
    }
   ],
   "source": [
    "from process_data import generate_cov_table, visualize_cov_distribution\n",
    "\n",
    "result = generate_cov_table(data_dirs, algorithms, output_dir)\n",
    "visualize_cov_distribution(output_dir, result)\n"
   ]
  },
  {
   "cell_type": "code",
   "execution_count": 6,
   "metadata": {},
   "outputs": [
    {
     "name": "stdout",
     "output_type": "stream",
     "text": [
      "rhino\n",
      "# unix_time all_covered_probes\n"
     ]
    },
    {
     "data": {
      "text/plain": [
       "<Figure size 288x216 with 0 Axes>"
      ]
     },
     "metadata": {},
     "output_type": "display_data"
    }
   ],
   "source": [
    "from process_data import generate_graph\n",
    "\n",
    "generate_graph(data_dirs, algorithms, output_dir)"
   ]
  },
  {
   "cell_type": "code",
   "execution_count": 6,
   "metadata": {},
   "outputs": [
    {
     "ename": "ValueError",
     "evalue": "No objects to concatenate",
     "output_type": "error",
     "traceback": [
      "\u001b[0;31m---------------------------------------------------------------------------\u001b[0m",
      "\u001b[0;31mValueError\u001b[0m                                Traceback (most recent call last)",
      "\u001b[0;32m/tmp/ipykernel_4142994/987404170.py\u001b[0m in \u001b[0;36m<module>\u001b[0;34m\u001b[0m\n\u001b[1;32m      1\u001b[0m \u001b[0;32mfrom\u001b[0m \u001b[0mprocess_data\u001b[0m \u001b[0;32mimport\u001b[0m \u001b[0mgenerate_corpus_exec_time\u001b[0m\u001b[0;34m,\u001b[0m \u001b[0mgenerate_perf_graph\u001b[0m\u001b[0;34m\u001b[0m\u001b[0;34m\u001b[0m\u001b[0m\n\u001b[1;32m      2\u001b[0m \u001b[0;34m\u001b[0m\u001b[0m\n\u001b[0;32m----> 3\u001b[0;31m \u001b[0mgenerate_perf_graph\u001b[0m\u001b[0;34m(\u001b[0m\u001b[0mdata_dirs\u001b[0m\u001b[0;34m,\u001b[0m \u001b[0malgorithms\u001b[0m\u001b[0;34m,\u001b[0m \u001b[0moutput_dir\u001b[0m\u001b[0;34m,\u001b[0m \u001b[0;34m\"exec_time\"\u001b[0m\u001b[0;34m)\u001b[0m\u001b[0;34m\u001b[0m\u001b[0;34m\u001b[0m\u001b[0m\n\u001b[0m",
      "\u001b[0;32m~/repos/JQF-ei/scripts/experiments/ei/process_data.py\u001b[0m in \u001b[0;36mgenerate_perf_graph\u001b[0;34m(data_dirs, algorithms, out_folder, out_name)\u001b[0m\n\u001b[1;32m    143\u001b[0m                     \u001b[0mexecution_time_data\u001b[0m \u001b[0;34m=\u001b[0m \u001b[0mload_processing_time_data\u001b[0m\u001b[0;34m(\u001b[0m\u001b[0mpath\u001b[0m\u001b[0;34m)\u001b[0m\u001b[0;34m\u001b[0m\u001b[0;34m\u001b[0m\u001b[0m\n\u001b[1;32m    144\u001b[0m                     \u001b[0mcorpus_based_plot_data\u001b[0m\u001b[0;34m.\u001b[0m\u001b[0mappend\u001b[0m\u001b[0;34m(\u001b[0m\u001b[0mexecution_time_data\u001b[0m\u001b[0;34m)\u001b[0m\u001b[0;34m\u001b[0m\u001b[0;34m\u001b[0m\u001b[0m\n\u001b[0;32m--> 145\u001b[0;31m         \u001b[0mcorpus_based_plot_data\u001b[0m \u001b[0;34m=\u001b[0m \u001b[0mpd\u001b[0m\u001b[0;34m.\u001b[0m\u001b[0mconcat\u001b[0m\u001b[0;34m(\u001b[0m\u001b[0mcorpus_based_plot_data\u001b[0m\u001b[0;34m,\u001b[0m \u001b[0mignore_index\u001b[0m\u001b[0;34m=\u001b[0m\u001b[0;32mTrue\u001b[0m\u001b[0;34m,\u001b[0m \u001b[0msort\u001b[0m\u001b[0;34m=\u001b[0m\u001b[0;32mFalse\u001b[0m\u001b[0;34m)\u001b[0m\u001b[0;34m\u001b[0m\u001b[0;34m\u001b[0m\u001b[0m\n\u001b[0m\u001b[1;32m    146\u001b[0m         generate_corpus_exec_time(os.path.join(\n\u001b[1;32m    147\u001b[0m             out_folder, f\"{dataset}-{out_name}.pdf\"), corpus_based_plot_data)\n",
      "\u001b[0;32m~/.local/lib/python3.8/site-packages/pandas/util/_decorators.py\u001b[0m in \u001b[0;36mwrapper\u001b[0;34m(*args, **kwargs)\u001b[0m\n\u001b[1;32m    315\u001b[0m                     \u001b[0mstacklevel\u001b[0m\u001b[0;34m=\u001b[0m\u001b[0mfind_stack_level\u001b[0m\u001b[0;34m(\u001b[0m\u001b[0minspect\u001b[0m\u001b[0;34m.\u001b[0m\u001b[0mcurrentframe\u001b[0m\u001b[0;34m(\u001b[0m\u001b[0;34m)\u001b[0m\u001b[0;34m)\u001b[0m\u001b[0;34m,\u001b[0m\u001b[0;34m\u001b[0m\u001b[0;34m\u001b[0m\u001b[0m\n\u001b[1;32m    316\u001b[0m                 )\n\u001b[0;32m--> 317\u001b[0;31m             \u001b[0;32mreturn\u001b[0m \u001b[0mfunc\u001b[0m\u001b[0;34m(\u001b[0m\u001b[0;34m*\u001b[0m\u001b[0margs\u001b[0m\u001b[0;34m,\u001b[0m \u001b[0;34m**\u001b[0m\u001b[0mkwargs\u001b[0m\u001b[0;34m)\u001b[0m\u001b[0;34m\u001b[0m\u001b[0;34m\u001b[0m\u001b[0m\n\u001b[0m\u001b[1;32m    318\u001b[0m \u001b[0;34m\u001b[0m\u001b[0m\n\u001b[1;32m    319\u001b[0m         \u001b[0;32mreturn\u001b[0m \u001b[0mwrapper\u001b[0m\u001b[0;34m\u001b[0m\u001b[0;34m\u001b[0m\u001b[0m\n",
      "\u001b[0;32m~/.local/lib/python3.8/site-packages/pandas/core/reshape/concat.py\u001b[0m in \u001b[0;36mconcat\u001b[0;34m(objs, axis, join, ignore_index, keys, levels, names, verify_integrity, sort, copy)\u001b[0m\n\u001b[1;32m    367\u001b[0m     \u001b[0;36m1\u001b[0m   \u001b[0;36m3\u001b[0m   \u001b[0;36m4\u001b[0m\u001b[0;34m\u001b[0m\u001b[0;34m\u001b[0m\u001b[0m\n\u001b[1;32m    368\u001b[0m     \"\"\"\n\u001b[0;32m--> 369\u001b[0;31m     op = _Concatenator(\n\u001b[0m\u001b[1;32m    370\u001b[0m         \u001b[0mobjs\u001b[0m\u001b[0;34m,\u001b[0m\u001b[0;34m\u001b[0m\u001b[0;34m\u001b[0m\u001b[0m\n\u001b[1;32m    371\u001b[0m         \u001b[0maxis\u001b[0m\u001b[0;34m=\u001b[0m\u001b[0maxis\u001b[0m\u001b[0;34m,\u001b[0m\u001b[0;34m\u001b[0m\u001b[0;34m\u001b[0m\u001b[0m\n",
      "\u001b[0;32m~/.local/lib/python3.8/site-packages/pandas/core/reshape/concat.py\u001b[0m in \u001b[0;36m__init__\u001b[0;34m(self, objs, axis, join, keys, levels, names, ignore_index, verify_integrity, copy, sort)\u001b[0m\n\u001b[1;32m    424\u001b[0m \u001b[0;34m\u001b[0m\u001b[0m\n\u001b[1;32m    425\u001b[0m         \u001b[0;32mif\u001b[0m \u001b[0mlen\u001b[0m\u001b[0;34m(\u001b[0m\u001b[0mobjs\u001b[0m\u001b[0;34m)\u001b[0m \u001b[0;34m==\u001b[0m \u001b[0;36m0\u001b[0m\u001b[0;34m:\u001b[0m\u001b[0;34m\u001b[0m\u001b[0;34m\u001b[0m\u001b[0m\n\u001b[0;32m--> 426\u001b[0;31m             \u001b[0;32mraise\u001b[0m \u001b[0mValueError\u001b[0m\u001b[0;34m(\u001b[0m\u001b[0;34m\"No objects to concatenate\"\u001b[0m\u001b[0;34m)\u001b[0m\u001b[0;34m\u001b[0m\u001b[0;34m\u001b[0m\u001b[0m\n\u001b[0m\u001b[1;32m    427\u001b[0m \u001b[0;34m\u001b[0m\u001b[0m\n\u001b[1;32m    428\u001b[0m         \u001b[0;32mif\u001b[0m \u001b[0mkeys\u001b[0m \u001b[0;32mis\u001b[0m \u001b[0;32mNone\u001b[0m\u001b[0;34m:\u001b[0m\u001b[0;34m\u001b[0m\u001b[0;34m\u001b[0m\u001b[0m\n",
      "\u001b[0;31mValueError\u001b[0m: No objects to concatenate"
     ]
    },
    {
     "data": {
      "text/plain": [
       "<Figure size 288x216 with 0 Axes>"
      ]
     },
     "metadata": {},
     "output_type": "display_data"
    }
   ],
   "source": [
    "from process_data import generate_corpus_exec_time, generate_perf_graph\n",
    "\n",
    "generate_perf_graph(data_dirs, algorithms, output_dir, \"exec_time\")"
   ]
  },
  {
   "cell_type": "code",
   "execution_count": 5,
   "metadata": {},
   "outputs": [
    {
     "data": {
      "text/plain": [
       "<Figure size 432x216 with 0 Axes>"
      ]
     },
     "metadata": {},
     "output_type": "display_data"
    }
   ],
   "source": [
    "\n",
    "from process_data import generate_corpus_exec_time, generate_perf_graph\n",
    "\n",
    "\n",
    "data_dir = os.path.join(os.path.expanduser(\"~\"), \"repos/cloudlab/results-JQF/ei-48h-11-22-p\")\n",
    "generate_perf_graph(data_dir, algorithms, output_dir, \"perf\")"
   ]
  }
 ],
 "metadata": {
  "kernelspec": {
   "display_name": "Python 3.9.6 64-bit",
   "language": "python",
   "name": "python3"
  },
  "language_info": {
   "codemirror_mode": {
    "name": "ipython",
    "version": 3
   },
   "file_extension": ".py",
   "mimetype": "text/x-python",
   "name": "python",
   "nbconvert_exporter": "python",
   "pygments_lexer": "ipython3",
   "version": "3.8.10"
  },
  "orig_nbformat": 4,
  "vscode": {
   "interpreter": {
    "hash": "31f2aee4e71d21fbe5cf8b01ff0e069b9275f58929596ceb00d14d90e3e16cd6"
   }
  }
 },
 "nbformat": 4,
 "nbformat_minor": 2
}
