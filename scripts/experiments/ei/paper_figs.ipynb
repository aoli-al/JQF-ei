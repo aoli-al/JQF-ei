{
 "cells": [
  {
   "cell_type": "code",
   "execution_count": 4,
   "metadata": {},
   "outputs": [],
   "source": [
    "import matplotlib.pyplot as plt\n",
    "import numpy as np\n",
    "import numpy.polynomial.polynomial as poly\n",
    "import seaborn as sns\n",
    "import re\n",
    "import os\n",
    "import json\n",
    "import re\n",
    "import jsonpickle\n",
    "import sys\n",
    "import graphviz\n",
    "import glob\n",
    "from statistics import mean, stdev, median\n",
    "sys.path.append(r'..')\n",
    "\n",
    "output_dir = os.path.join(os.path.expanduser(\"~\"), \"repos/ei-paper/figs\")\n",
    "# data_dir = os.path.join(os.path.expanduser(\"~\"), \"repos/cloudlab/results-JQF/merged\")\n",
    "# EI data\n",
    "# data_dir = os.path.join(os.path.expanduser(\"~\"), \"/usr0/home/aoli/repos/cloudlab/results-JQF/ei-48h-12-12/\")\n",
    "\n",
    "# Mix Data\n",
    "data_dirs = [\n",
    "    # os.path.join(os.path.expanduser(\"~\"),\n",
    "    #              \"/usr0/home/aoli/repos/cloudlab/results-JQF/ei-48h-12-19/\"),\n",
    "    # os.path.join(os.path.expanduser(\"~\"),\n",
    "    #              \"/usr0/home/aoli/repos/cloudlab/results-JQF/ei-48h-12-12/\"),\n",
    "    # os.path.join(os.path.expanduser(\"~\"),\n",
    "    #              \"/usr0/home/aoli/repos/cloudlab/results-JQF/ei-48h-12-21/\"),\n",
    "    #  os.path.join(os.path.expanduser(\"~\"), \"/usr0/home/aoli/repos/cloudlab/results-JQF/ei-24h-04-26\"),\n",
    "    # os.path.join(os.path.expanduser(\"~\"), \"/usr0/home/aoli/repos/cloudlab/results-JQF/js-gen-long\")\n",
    "    # os.path.join(os.path.expanduser(\"~\"), \"/usr0/home/aoli/repos/cloudlab/results-JQF/merged\")\n",
    "    # os.path.join(os.path.expanduser(\"~\"), \"/data/aoli/results-JQF/ei\")\n",
    "    os.path.join(os.path.expanduser(\"~\"), \"/data/aoli/results-JQF/ei-no-steal\")\n",
    "]\n",
    "output_dir = os.path.join(os.path.expanduser(\"~\"), data_dirs[0], \"fig\")\n",
    "if not os.path.exists(output_dir):\n",
    "    os.mkdir(output_dir)\n"
   ]
  },
  {
   "cell_type": "code",
   "execution_count": 5,
   "metadata": {},
   "outputs": [
    {
     "name": "stdout",
     "output_type": "stream",
     "text": [
      "The autoreload extension is already loaded. To reload it, use:\n",
      "  %reload_ext autoreload\n",
      "Identified algorithms:  {'ei-testWithGenerator', 'zest-testWithGenerator'}\n"
     ]
    }
   ],
   "source": [
    "%load_ext autoreload\n",
    "%autoreload 2\n",
    "import sns_configs\n",
    "from process_data import identify_algorithms\n",
    "\n",
    "algorithms = identify_algorithms(data_dirs)\n",
    "print(\"Identified algorithms: \", algorithms)"
   ]
  },
  {
   "cell_type": "code",
   "execution_count": 9,
   "metadata": {},
   "outputs": [
    {
     "name": "stdout",
     "output_type": "stream",
     "text": [
      "{'ei-testWithGenerator', 'zest-testWithGenerator'}\n",
      "Cov-All\n",
      "Cov-Avg\n",
      "\\begin{array}{l | r | r | l | l | l} \\hline\n",
      "    \\verb|Dataset| & \\verb| EI  | & \\verb|Zest | & \\verb|Improvement| & \\verb|\\sigma| & \\verb|p| \\\\ \\hline\n",
      "    \\hline\n",
      "    ant     &  3408 &  4536 &             &        &   \\\\ \\hline\n",
      "    maven   &  4126 &  4135 &             &        &   \\\\ \\hline\n",
      "    bcel    &  2520 &  2515 &             &        &   \\\\ \\hline\n",
      "    rhino   &  8059 &  4880 &             &        &   \\\\ \\hline\n",
      "    closure & 24645 & 24491 &             &        &   \\\\ \\hline\n",
      "\\end{array}\n",
      "5747\n",
      "105\n",
      "270\n",
      "8509\n",
      "1935\n"
     ]
    },
    {
     "data": {
      "text/plain": [
       "<Figure size 288x216 with 0 Axes>"
      ]
     },
     "metadata": {},
     "output_type": "display_data"
    }
   ],
   "source": [
    "from process_data import generate_cov_table, visualize_cov_distribution\n",
    "\n",
    "print(algorithms)\n",
    "result = generate_cov_table(data_dirs, sorted(algorithms), output_dir)\n",
    "visualize_cov_distribution(output_dir, result)\n"
   ]
  },
  {
   "cell_type": "code",
   "execution_count": 8,
   "metadata": {},
   "outputs": [
    {
     "name": "stdout",
     "output_type": "stream",
     "text": [
      "ant-ei-no-havoc-0 ERROR!\n",
      "ant-ei-no-havoc-1 ERROR!\n",
      "ant-ei-no-havoc-2 ERROR!\n",
      "ant-ei-no-havoc-3 ERROR!\n",
      "ant-ei-no-havoc-4 ERROR!\n",
      "ant-zest-fast-0 ERROR!\n",
      "ant-zest-fast-1 ERROR!\n",
      "ant-zest-fast-2 ERROR!\n",
      "ant-zest-fast-3 ERROR!\n",
      "ant-zest-fast-4 ERROR!\n",
      "# unix_time total_inputs\n",
      "ant\n",
      "# unix_time all_covered_probes\n",
      "maven-ei-no-havoc-0 ERROR!\n",
      "maven-ei-no-havoc-1 ERROR!\n",
      "maven-ei-no-havoc-2 ERROR!\n",
      "maven-ei-no-havoc-3 ERROR!\n",
      "maven-ei-no-havoc-4 ERROR!\n",
      "maven-zest-fast-0 ERROR!\n",
      "maven-zest-fast-1 ERROR!\n",
      "maven-zest-fast-2 ERROR!\n",
      "maven-zest-fast-3 ERROR!\n",
      "maven-zest-fast-4 ERROR!\n",
      "# unix_time total_inputs\n",
      "maven\n",
      "# unix_time all_covered_probes\n",
      "bcel-ei-no-havoc-0 ERROR!\n",
      "bcel-ei-no-havoc-1 ERROR!\n",
      "bcel-ei-no-havoc-2 ERROR!\n",
      "bcel-ei-no-havoc-3 ERROR!\n",
      "bcel-ei-no-havoc-4 ERROR!\n",
      "bcel-zest-fast-0 ERROR!\n",
      "bcel-zest-fast-1 ERROR!\n",
      "bcel-zest-fast-2 ERROR!\n",
      "bcel-zest-fast-3 ERROR!\n",
      "bcel-zest-fast-4 ERROR!\n",
      "# unix_time total_inputs\n",
      "bcel\n",
      "# unix_time all_covered_probes\n",
      "rhino-ei-no-havoc-0 ERROR!\n",
      "rhino-ei-no-havoc-1 ERROR!\n",
      "rhino-ei-no-havoc-2 ERROR!\n",
      "rhino-ei-no-havoc-3 ERROR!\n",
      "rhino-ei-no-havoc-4 ERROR!\n",
      "rhino-zest-fast-0 ERROR!\n",
      "rhino-zest-fast-1 ERROR!\n",
      "rhino-zest-fast-2 ERROR!\n",
      "rhino-zest-fast-3 ERROR!\n",
      "rhino-zest-fast-4 ERROR!\n",
      "# unix_time total_inputs\n",
      "rhino\n",
      "# unix_time all_covered_probes\n",
      "closure-ei-no-havoc-0 ERROR!\n",
      "closure-ei-no-havoc-1 ERROR!\n",
      "closure-ei-no-havoc-2 ERROR!\n",
      "closure-ei-no-havoc-3 ERROR!\n",
      "closure-ei-no-havoc-4 ERROR!\n",
      "closure-zest-fast-0 ERROR!\n",
      "closure-zest-fast-1 ERROR!\n",
      "closure-zest-fast-2 ERROR!\n",
      "closure-zest-fast-3 ERROR!\n",
      "closure-zest-fast-4 ERROR!\n",
      "# unix_time total_inputs\n",
      "closure\n",
      "# unix_time all_covered_probes\n"
     ]
    },
    {
     "data": {
      "text/plain": [
       "<Figure size 288x216 with 0 Axes>"
      ]
     },
     "metadata": {},
     "output_type": "display_data"
    }
   ],
   "source": [
    "from process_data import generate_graph\n",
    "\n",
    "generate_graph(data_dirs, algorithms, output_dir)"
   ]
  },
  {
   "cell_type": "code",
   "execution_count": null,
   "metadata": {},
   "outputs": [],
   "source": []
  },
  {
   "cell_type": "code",
   "execution_count": 41,
   "metadata": {},
   "outputs": [
    {
     "data": {
      "text/plain": [
       "<Figure size 288x216 with 0 Axes>"
      ]
     },
     "metadata": {},
     "output_type": "display_data"
    }
   ],
   "source": [
    "from process_data import generate_corpus_exec_time, generate_perf_graph\n",
    "\n",
    "generate_perf_graph(data_dirs, algorithms, output_dir, \"exec_time\")"
   ]
  },
  {
   "cell_type": "code",
   "execution_count": 5,
   "metadata": {},
   "outputs": [
    {
     "data": {
      "text/plain": [
       "<Figure size 432x216 with 0 Axes>"
      ]
     },
     "metadata": {},
     "output_type": "display_data"
    }
   ],
   "source": [
    "\n",
    "from process_data import generate_corpus_exec_time, generate_perf_graph\n",
    "\n",
    "\n",
    "data_dir = os.path.join(os.path.expanduser(\"~\"), \"repos/cloudlab/results-JQF/ei-48h-11-22-p\")\n",
    "generate_perf_graph(data_dir, algorithms, output_dir, \"perf\")"
   ]
  }
 ],
 "metadata": {
  "kernelspec": {
   "display_name": "Python 3.9.6 64-bit",
   "language": "python",
   "name": "python3"
  },
  "language_info": {
   "codemirror_mode": {
    "name": "ipython",
    "version": 3
   },
   "file_extension": ".py",
   "mimetype": "text/x-python",
   "name": "python",
   "nbconvert_exporter": "python",
   "pygments_lexer": "ipython3",
   "version": "3.8.10"
  },
  "orig_nbformat": 4,
  "vscode": {
   "interpreter": {
    "hash": "31f2aee4e71d21fbe5cf8b01ff0e069b9275f58929596ceb00d14d90e3e16cd6"
   }
  }
 },
 "nbformat": 4,
 "nbformat_minor": 2
}
