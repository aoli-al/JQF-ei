{
 "cells": [
  {
   "cell_type": "code",
   "execution_count": 2,
   "metadata": {},
   "outputs": [],
   "source": [
    "import matplotlib.pyplot as plt\n",
    "import numpy as np\n",
    "import numpy.polynomial.polynomial as poly\n",
    "import seaborn as sns\n",
    "import re\n",
    "import os\n",
    "import json\n",
    "import re\n",
    "import jsonpickle\n",
    "import sys\n",
    "import graphviz\n",
    "import glob\n",
    "from statistics import mean, stdev, median\n",
    "sys.path.append(r'..')\n",
    "\n",
    "output_dir = os.path.join(os.path.expanduser(\"~\"), \"repos/ei-paper/figs\")\n",
    "# data_dir = os.path.join(os.path.expanduser(\"~\"), \"repos/cloudlab/results-JQF/merged\")\n",
    "# EI data\n",
    "# data_dir = os.path.join(os.path.expanduser(\"~\"), \"/usr0/home/aoli/repos/cloudlab/results-JQF/ei-48h-12-12/\")\n",
    "\n",
    "# Mix Data\n",
    "data_dirs = [\n",
    "    # os.path.join(os.path.expanduser(\"~\"),\n",
    "    #              \"/usr0/home/aoli/repos/cloudlab/results-JQF/ei-48h-12-19/\"),\n",
    "    # os.path.join(os.path.expanduser(\"~\"),\n",
    "    #              \"/usr0/home/aoli/repos/cloudlab/results-JQF/ei-48h-12-12/\"),\n",
    "    # os.path.join(os.path.expanduser(\"~\"),\n",
    "    #              \"/usr0/home/aoli/repos/cloudlab/results-JQF/ei-48h-12-21/\"),\n",
    "    #  os.path.join(os.path.expanduser(\"~\"), \"/usr0/home/aoli/repos/cloudlab/results-JQF/ei-24h-04-26\"),\n",
    "    os.path.join(os.path.expanduser(\"~\"), \"/usr0/home/aoli/repos/cloudlab/results-JQF/js-gen-cmp\")\n",
    "]\n",
    "output_dir = os.path.join(os.path.expanduser(\"~\"), data_dirs[0], \"fig\")\n",
    "if not os.path.exists(output_dir):\n",
    "    os.mkdir(output_dir)\n"
   ]
  },
  {
   "cell_type": "code",
   "execution_count": 3,
   "metadata": {},
   "outputs": [
    {
     "name": "stdout",
     "output_type": "stream",
     "text": [
      "Identified algorithms:  {'zest-testWithSmallReversedGenerator', 'ei-testWithLargeReversedGenerator', 'ei-testWithSmallReversedGenerator', 'ei-testWithGenerator', 'zest-testWithLargeReversedGenerator', 'zest-testWithGenerator'}\n"
     ]
    }
   ],
   "source": [
    "%load_ext autoreload\n",
    "%autoreload 2\n",
    "import sns_configs\n",
    "from process_data import identify_algorithms\n",
    "\n",
    "algorithms = identify_algorithms(data_dirs)\n",
    "print(\"Identified algorithms: \", algorithms)"
   ]
  },
  {
   "cell_type": "code",
   "execution_count": 4,
   "metadata": {},
   "outputs": [
    {
     "name": "stdout",
     "output_type": "stream",
     "text": [
      "{'zest-testWithSmallReversedGenerator', 'ei-testWithLargeReversedGenerator', 'ei-testWithSmallReversedGenerator', 'ei-testWithGenerator', 'zest-testWithLargeReversedGenerator', 'zest-testWithGenerator'}\n",
      "Cov-All\n",
      "Cov-Avg\n",
      "\\begin{array}{l | r | r | r | r | r | r | l | l | l} \\hline\n",
      "    \\verb|Dataset| & \\verb| EI  | & \\verb|EI-LRev| & \\verb|EI-Rev| & \\verb|Zest | & \\verb|Zest-LRev| & \\verb|Zest-Rev| & \\verb|Improvement| & \\verb|\\sigma| & \\verb|p| \\\\ \\hline\n",
      "    \\hline\n",
      "    rhino   &  7594 &    7638 &   7612 &  7801 &      7761 &     7740 &             &        &   \\\\ \\hline\n",
      "    closure & 23745 &   23624 &  23720 & 23584 &     23529 &    23735 &             &        &   \\\\ \\hline\n",
      "\\end{array}\n",
      "1109\n",
      "2387\n"
     ]
    },
    {
     "data": {
      "text/plain": [
       "<Figure size 288x216 with 0 Axes>"
      ]
     },
     "metadata": {},
     "output_type": "display_data"
    }
   ],
   "source": [
    "from process_data import generate_cov_table, visualize_cov_distribution\n",
    "\n",
    "print(algorithms)\n",
    "result = generate_cov_table(data_dirs, sorted(algorithms), output_dir)\n",
    "visualize_cov_distribution(output_dir, result)\n"
   ]
  },
  {
   "cell_type": "code",
   "execution_count": 5,
   "metadata": {},
   "outputs": [
    {
     "name": "stdout",
     "output_type": "stream",
     "text": [
      "rhino-zest-testWithSmallReversedGenerator-0 ERROR!\n",
      "rhino-zest-testWithSmallReversedGenerator-1 ERROR!\n",
      "rhino-zest-testWithSmallReversedGenerator-2 ERROR!\n",
      "rhino-zest-testWithSmallReversedGenerator-3 ERROR!\n",
      "rhino-zest-testWithSmallReversedGenerator-4 ERROR!\n",
      "rhino-zest-testWithSmallReversedGenerator-5 ERROR!\n",
      "rhino-zest-testWithSmallReversedGenerator-6 ERROR!\n",
      "rhino-zest-testWithSmallReversedGenerator-7 ERROR!\n",
      "rhino-zest-testWithSmallReversedGenerator-8 ERROR!\n",
      "rhino-zest-testWithSmallReversedGenerator-9 ERROR!\n",
      "rhino-ei-testWithLargeReversedGenerator-0 ERROR!\n",
      "rhino-ei-testWithLargeReversedGenerator-1 ERROR!\n",
      "rhino-ei-testWithLargeReversedGenerator-2 ERROR!\n",
      "rhino-ei-testWithLargeReversedGenerator-3 ERROR!\n",
      "rhino-ei-testWithLargeReversedGenerator-4 ERROR!\n",
      "rhino-ei-testWithLargeReversedGenerator-5 ERROR!\n",
      "rhino-ei-testWithLargeReversedGenerator-6 ERROR!\n",
      "rhino-ei-testWithLargeReversedGenerator-7 ERROR!\n",
      "rhino-ei-testWithLargeReversedGenerator-8 ERROR!\n",
      "rhino-ei-testWithLargeReversedGenerator-9 ERROR!\n",
      "rhino-ei-testWithSmallReversedGenerator-0 ERROR!\n",
      "rhino-ei-testWithSmallReversedGenerator-1 ERROR!\n",
      "rhino-ei-testWithSmallReversedGenerator-2 ERROR!\n",
      "rhino-ei-testWithSmallReversedGenerator-3 ERROR!\n",
      "rhino-ei-testWithSmallReversedGenerator-4 ERROR!\n",
      "rhino-ei-testWithSmallReversedGenerator-5 ERROR!\n",
      "rhino-ei-testWithSmallReversedGenerator-6 ERROR!\n",
      "rhino-ei-testWithSmallReversedGenerator-7 ERROR!\n",
      "rhino-ei-testWithSmallReversedGenerator-8 ERROR!\n",
      "rhino-ei-testWithSmallReversedGenerator-9 ERROR!\n",
      "rhino-ei-testWithGenerator-0 ERROR!\n",
      "rhino-ei-testWithGenerator-1 ERROR!\n",
      "rhino-ei-testWithGenerator-2 ERROR!\n",
      "rhino-ei-testWithGenerator-3 ERROR!\n",
      "rhino-ei-testWithGenerator-4 ERROR!\n",
      "rhino-ei-testWithGenerator-5 ERROR!\n",
      "rhino-ei-testWithGenerator-6 ERROR!\n",
      "rhino-ei-testWithGenerator-7 ERROR!\n",
      "rhino-ei-testWithGenerator-8 ERROR!\n",
      "rhino-ei-testWithGenerator-9 ERROR!\n",
      "rhino-zest-testWithLargeReversedGenerator-0 ERROR!\n",
      "rhino-zest-testWithLargeReversedGenerator-1 ERROR!\n",
      "rhino-zest-testWithLargeReversedGenerator-2 ERROR!\n",
      "rhino-zest-testWithLargeReversedGenerator-3 ERROR!\n",
      "rhino-zest-testWithLargeReversedGenerator-4 ERROR!\n",
      "rhino-zest-testWithLargeReversedGenerator-5 ERROR!\n",
      "rhino-zest-testWithLargeReversedGenerator-6 ERROR!\n",
      "rhino-zest-testWithLargeReversedGenerator-7 ERROR!\n",
      "rhino-zest-testWithLargeReversedGenerator-8 ERROR!\n",
      "rhino-zest-testWithLargeReversedGenerator-9 ERROR!\n",
      "rhino-zest-testWithGenerator-0 ERROR!\n",
      "rhino-zest-testWithGenerator-1 ERROR!\n",
      "rhino-zest-testWithGenerator-2 ERROR!\n",
      "rhino-zest-testWithGenerator-3 ERROR!\n",
      "rhino-zest-testWithGenerator-4 ERROR!\n",
      "rhino-zest-testWithGenerator-5 ERROR!\n",
      "rhino-zest-testWithGenerator-6 ERROR!\n",
      "rhino-zest-testWithGenerator-7 ERROR!\n",
      "rhino-zest-testWithGenerator-8 ERROR!\n",
      "rhino-zest-testWithGenerator-9 ERROR!\n",
      "# unix_time total_inputs\n",
      "rhino\n",
      "# unix_time all_covered_probes\n",
      "closure-zest-testWithSmallReversedGenerator-0 ERROR!\n",
      "closure-zest-testWithSmallReversedGenerator-1 ERROR!\n",
      "closure-zest-testWithSmallReversedGenerator-2 ERROR!\n",
      "closure-zest-testWithSmallReversedGenerator-3 ERROR!\n",
      "closure-zest-testWithSmallReversedGenerator-4 ERROR!\n",
      "closure-zest-testWithSmallReversedGenerator-5 ERROR!\n",
      "closure-zest-testWithSmallReversedGenerator-6 ERROR!\n",
      "closure-zest-testWithSmallReversedGenerator-7 ERROR!\n",
      "closure-zest-testWithSmallReversedGenerator-8 ERROR!\n",
      "closure-zest-testWithSmallReversedGenerator-9 ERROR!\n",
      "closure-ei-testWithLargeReversedGenerator-0 ERROR!\n",
      "closure-ei-testWithLargeReversedGenerator-1 ERROR!\n",
      "closure-ei-testWithLargeReversedGenerator-2 ERROR!\n",
      "closure-ei-testWithLargeReversedGenerator-3 ERROR!\n",
      "closure-ei-testWithLargeReversedGenerator-4 ERROR!\n",
      "closure-ei-testWithLargeReversedGenerator-5 ERROR!\n",
      "closure-ei-testWithLargeReversedGenerator-6 ERROR!\n",
      "closure-ei-testWithLargeReversedGenerator-7 ERROR!\n",
      "closure-ei-testWithLargeReversedGenerator-8 ERROR!\n",
      "closure-ei-testWithLargeReversedGenerator-9 ERROR!\n",
      "closure-ei-testWithSmallReversedGenerator-0 ERROR!\n",
      "closure-ei-testWithSmallReversedGenerator-1 ERROR!\n",
      "closure-ei-testWithSmallReversedGenerator-2 ERROR!\n",
      "closure-ei-testWithSmallReversedGenerator-3 ERROR!\n",
      "closure-ei-testWithSmallReversedGenerator-4 ERROR!\n",
      "closure-ei-testWithSmallReversedGenerator-5 ERROR!\n",
      "closure-ei-testWithSmallReversedGenerator-6 ERROR!\n",
      "closure-ei-testWithSmallReversedGenerator-7 ERROR!\n",
      "closure-ei-testWithSmallReversedGenerator-8 ERROR!\n",
      "closure-ei-testWithSmallReversedGenerator-9 ERROR!\n",
      "closure-ei-testWithGenerator-0 ERROR!\n",
      "closure-ei-testWithGenerator-1 ERROR!\n",
      "closure-ei-testWithGenerator-2 ERROR!\n",
      "closure-ei-testWithGenerator-3 ERROR!\n",
      "closure-ei-testWithGenerator-4 ERROR!\n",
      "closure-ei-testWithGenerator-5 ERROR!\n",
      "closure-ei-testWithGenerator-6 ERROR!\n",
      "closure-ei-testWithGenerator-7 ERROR!\n",
      "closure-ei-testWithGenerator-8 ERROR!\n",
      "closure-ei-testWithGenerator-9 ERROR!\n",
      "closure-zest-testWithLargeReversedGenerator-0 ERROR!\n",
      "closure-zest-testWithLargeReversedGenerator-1 ERROR!\n",
      "closure-zest-testWithLargeReversedGenerator-2 ERROR!\n",
      "closure-zest-testWithLargeReversedGenerator-3 ERROR!\n",
      "closure-zest-testWithLargeReversedGenerator-4 ERROR!\n",
      "closure-zest-testWithLargeReversedGenerator-5 ERROR!\n",
      "closure-zest-testWithLargeReversedGenerator-6 ERROR!\n",
      "closure-zest-testWithLargeReversedGenerator-7 ERROR!\n",
      "closure-zest-testWithLargeReversedGenerator-8 ERROR!\n",
      "closure-zest-testWithLargeReversedGenerator-9 ERROR!\n",
      "closure-zest-testWithGenerator-0 ERROR!\n",
      "closure-zest-testWithGenerator-1 ERROR!\n",
      "closure-zest-testWithGenerator-2 ERROR!\n",
      "closure-zest-testWithGenerator-3 ERROR!\n",
      "closure-zest-testWithGenerator-4 ERROR!\n",
      "closure-zest-testWithGenerator-5 ERROR!\n",
      "closure-zest-testWithGenerator-6 ERROR!\n",
      "closure-zest-testWithGenerator-7 ERROR!\n",
      "closure-zest-testWithGenerator-8 ERROR!\n",
      "closure-zest-testWithGenerator-9 ERROR!\n",
      "# unix_time total_inputs\n",
      "closure\n",
      "# unix_time all_covered_probes\n"
     ]
    },
    {
     "data": {
      "text/plain": [
       "<Figure size 288x216 with 0 Axes>"
      ]
     },
     "metadata": {},
     "output_type": "display_data"
    }
   ],
   "source": [
    "from process_data import generate_graph\n",
    "\n",
    "generate_graph(data_dirs, algorithms, output_dir)"
   ]
  },
  {
   "cell_type": "code",
   "execution_count": 41,
   "metadata": {},
   "outputs": [
    {
     "data": {
      "text/plain": [
       "<Figure size 288x216 with 0 Axes>"
      ]
     },
     "metadata": {},
     "output_type": "display_data"
    }
   ],
   "source": [
    "from process_data import generate_corpus_exec_time, generate_perf_graph\n",
    "\n",
    "generate_perf_graph(data_dirs, algorithms, output_dir, \"exec_time\")"
   ]
  },
  {
   "cell_type": "code",
   "execution_count": 5,
   "metadata": {},
   "outputs": [
    {
     "data": {
      "text/plain": [
       "<Figure size 432x216 with 0 Axes>"
      ]
     },
     "metadata": {},
     "output_type": "display_data"
    }
   ],
   "source": [
    "\n",
    "from process_data import generate_corpus_exec_time, generate_perf_graph\n",
    "\n",
    "\n",
    "data_dir = os.path.join(os.path.expanduser(\"~\"), \"repos/cloudlab/results-JQF/ei-48h-11-22-p\")\n",
    "generate_perf_graph(data_dir, algorithms, output_dir, \"perf\")"
   ]
  }
 ],
 "metadata": {
  "kernelspec": {
   "display_name": "Python 3.9.6 64-bit",
   "language": "python",
   "name": "python3"
  },
  "language_info": {
   "codemirror_mode": {
    "name": "ipython",
    "version": 3
   },
   "file_extension": ".py",
   "mimetype": "text/x-python",
   "name": "python",
   "nbconvert_exporter": "python",
   "pygments_lexer": "ipython3",
   "version": "3.8.10"
  },
  "orig_nbformat": 4,
  "vscode": {
   "interpreter": {
    "hash": "31f2aee4e71d21fbe5cf8b01ff0e069b9275f58929596ceb00d14d90e3e16cd6"
   }
  }
 },
 "nbformat": 4,
 "nbformat_minor": 2
}
