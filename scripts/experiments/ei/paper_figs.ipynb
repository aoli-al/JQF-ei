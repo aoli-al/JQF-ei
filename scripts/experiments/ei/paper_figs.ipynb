{
 "cells": [
  {
   "cell_type": "code",
   "execution_count": 31,
   "metadata": {},
   "outputs": [],
   "source": [
    "import matplotlib.pyplot as plt\n",
    "import numpy as np\n",
    "import numpy.polynomial.polynomial as poly\n",
    "import seaborn as sns\n",
    "import re\n",
    "import os\n",
    "import json\n",
    "import re\n",
    "import jsonpickle\n",
    "import sys\n",
    "import graphviz\n",
    "import glob\n",
    "from statistics import mean, stdev, median\n",
    "sys.path.append(r'..')\n",
    "\n",
    "output_dir = os.path.join(os.path.expanduser(\"~\"), \"repos/ei-paper/figs\")\n",
    "# data_dir = os.path.join(os.path.expanduser(\"~\"), \"repos/cloudlab/results-JQF/merged\")\n",
    "# EI data\n",
    "# data_dir = os.path.join(os.path.expanduser(\"~\"), \"/usr0/home/aoli/repos/cloudlab/results-JQF/ei-48h-12-12/\")\n",
    "\n",
    "# Mix Data\n",
    "data_dirs = [\n",
    "    # os.path.join(os.path.expanduser(\"~\"),\n",
    "    #              \"/usr0/home/aoli/repos/cloudlab/results-JQF/ei-48h-12-19/\"),\n",
    "    # os.path.join(os.path.expanduser(\"~\"),\n",
    "    #              \"/usr0/home/aoli/repos/cloudlab/results-JQF/ei-48h-12-12/\"),\n",
    "    # os.path.join(os.path.expanduser(\"~\"),\n",
    "    #              \"/usr0/home/aoli/repos/cloudlab/results-JQF/ei-48h-12-21/\"),\n",
    "    #  os.path.join(os.path.expanduser(\"~\"), \"/usr0/home/aoli/repos/cloudlab/results-JQF/ei-24h-04-26\"),\n",
    "     os.path.join(os.path.expanduser(\"~\"), \"/usr0/home/aoli/repos/cloudlab/results-JQF/ei-24h-04-27\")\n",
    "]\n",
    "output_dir = os.path.join(os.path.expanduser(\"~\"), data_dirs[0], \"fig\")\n",
    "if not os.path.exists(output_dir):\n",
    "    os.mkdir(output_dir)\n"
   ]
  },
  {
   "cell_type": "code",
   "execution_count": 32,
   "metadata": {},
   "outputs": [
    {
     "name": "stdout",
     "output_type": "stream",
     "text": [
      "The autoreload extension is already loaded. To reload it, use:\n",
      "  %reload_ext autoreload\n",
      "Identified algorithms:  {'ei-testWithReversedGenerator', 'ei-testWithGenerator', 'zest-testWithReversedGenerator', 'zest-testWithGenerator'}\n"
     ]
    }
   ],
   "source": [
    "%load_ext autoreload\n",
    "%autoreload 2\n",
    "import sns_configs\n",
    "from process_data import identify_algorithms\n",
    "\n",
    "algorithms = identify_algorithms(data_dirs)\n",
    "print(\"Identified algorithms: \", algorithms)"
   ]
  },
  {
   "cell_type": "code",
   "execution_count": 56,
   "metadata": {},
   "outputs": [
    {
     "name": "stdout",
     "output_type": "stream",
     "text": [
      "{'ei-testWithReversedGenerator', 'ei-testWithGenerator', 'zest-testWithReversedGenerator', 'zest-testWithGenerator'}\n",
      "Cov-All\n",
      "Cov-Avg\n",
      "\\begin{array}{l | r | r | r | r | l | l | l} \\hline\n",
      "    \\verb|Dataset| & \\verb| EI | & \\verb|EI-Rev| & \\verb|Zest| & \\verb|Zest-Rev| & \\verb|Improvement| & \\verb|\\sigma| & \\verb|p| \\\\ \\hline\n",
      "    \\hline\n",
      "    ant     & 5674 &   5666 & 5684 &     5671 &             &        &   \\\\ \\hline\n",
      "    maven   & 4126 &   4132 & 4133 &     4132 &             &        &   \\\\ \\hline\n",
      "    bcel    & 3966 &   3963 & 3965 &     3963 &             &        &   \\\\ \\hline\n",
      "    rhino   & 7858 &   7934 & 8026 &     8003 &             &        &   \\\\ \\hline\n",
      "    closure & 4664 &   9761 & 9710 &     9597 &             &        &   \\\\ \\hline\n",
      "\\end{array}\n",
      "94\n",
      "54\n",
      "113\n",
      "758\n",
      "24653\n"
     ]
    },
    {
     "data": {
      "text/plain": [
       "<Figure size 288x216 with 0 Axes>"
      ]
     },
     "metadata": {},
     "output_type": "display_data"
    }
   ],
   "source": [
    "from process_data import generate_cov_table, visualize_cov_distribution\n",
    "\n",
    "print(algorithms)\n",
    "result = generate_cov_table(data_dirs, sorted(algorithms), output_dir)\n",
    "visualize_cov_distribution(output_dir, result)\n"
   ]
  },
  {
   "cell_type": "code",
   "execution_count": 39,
   "metadata": {},
   "outputs": [
    {
     "name": "stdout",
     "output_type": "stream",
     "text": [
      "ant-ei-testWithReversedGenerator-0 ERROR!\n",
      "ant-ei-testWithReversedGenerator-1 ERROR!\n",
      "ant-ei-testWithReversedGenerator-2 ERROR!\n",
      "ant-ei-testWithReversedGenerator-3 ERROR!\n",
      "ant-ei-testWithReversedGenerator-4 ERROR!\n",
      "ant-ei-testWithGenerator-0 ERROR!\n",
      "ant-ei-testWithGenerator-1 ERROR!\n",
      "ant-ei-testWithGenerator-2 ERROR!\n",
      "ant-ei-testWithGenerator-3 ERROR!\n",
      "ant-ei-testWithGenerator-4 ERROR!\n",
      "ant-zest-testWithReversedGenerator-0 ERROR!\n",
      "ant-zest-testWithReversedGenerator-1 ERROR!\n",
      "ant-zest-testWithReversedGenerator-2 ERROR!\n",
      "ant-zest-testWithReversedGenerator-3 ERROR!\n",
      "ant-zest-testWithReversedGenerator-4 ERROR!\n",
      "ant-zest-testWithGenerator-0 ERROR!\n",
      "ant-zest-testWithGenerator-1 ERROR!\n",
      "ant-zest-testWithGenerator-2 ERROR!\n",
      "ant-zest-testWithGenerator-3 ERROR!\n",
      "ant-zest-testWithGenerator-4 ERROR!\n",
      "# unix_time total_inputs\n",
      "ant\n",
      "# unix_time all_covered_probes\n",
      "maven-ei-testWithReversedGenerator-0 ERROR!\n",
      "maven-ei-testWithReversedGenerator-1 ERROR!\n",
      "maven-ei-testWithReversedGenerator-2 ERROR!\n",
      "maven-ei-testWithReversedGenerator-3 ERROR!\n",
      "maven-ei-testWithReversedGenerator-4 ERROR!\n",
      "maven-ei-testWithGenerator-0 ERROR!\n",
      "maven-ei-testWithGenerator-1 ERROR!\n",
      "maven-ei-testWithGenerator-2 ERROR!\n",
      "maven-ei-testWithGenerator-3 ERROR!\n",
      "maven-ei-testWithGenerator-4 ERROR!\n",
      "maven-zest-testWithReversedGenerator-0 ERROR!\n",
      "maven-zest-testWithReversedGenerator-1 ERROR!\n",
      "maven-zest-testWithReversedGenerator-2 ERROR!\n",
      "maven-zest-testWithReversedGenerator-3 ERROR!\n",
      "maven-zest-testWithReversedGenerator-4 ERROR!\n",
      "maven-zest-testWithGenerator-0 ERROR!\n",
      "maven-zest-testWithGenerator-1 ERROR!\n",
      "maven-zest-testWithGenerator-2 ERROR!\n",
      "maven-zest-testWithGenerator-3 ERROR!\n",
      "maven-zest-testWithGenerator-4 ERROR!\n",
      "# unix_time total_inputs\n",
      "maven\n",
      "# unix_time all_covered_probes\n",
      "bcel-ei-testWithReversedGenerator-0 ERROR!\n",
      "bcel-ei-testWithReversedGenerator-1 ERROR!\n",
      "bcel-ei-testWithReversedGenerator-2 ERROR!\n",
      "bcel-ei-testWithReversedGenerator-3 ERROR!\n",
      "bcel-ei-testWithReversedGenerator-4 ERROR!\n",
      "bcel-ei-testWithGenerator-0 ERROR!\n",
      "bcel-ei-testWithGenerator-1 ERROR!\n",
      "bcel-ei-testWithGenerator-2 ERROR!\n",
      "bcel-ei-testWithGenerator-3 ERROR!\n",
      "bcel-ei-testWithGenerator-4 ERROR!\n",
      "bcel-zest-testWithReversedGenerator-0 ERROR!\n",
      "bcel-zest-testWithReversedGenerator-1 ERROR!\n",
      "bcel-zest-testWithReversedGenerator-2 ERROR!\n",
      "bcel-zest-testWithReversedGenerator-3 ERROR!\n",
      "bcel-zest-testWithReversedGenerator-4 ERROR!\n",
      "bcel-zest-testWithGenerator-0 ERROR!\n",
      "bcel-zest-testWithGenerator-1 ERROR!\n",
      "bcel-zest-testWithGenerator-2 ERROR!\n",
      "bcel-zest-testWithGenerator-3 ERROR!\n",
      "bcel-zest-testWithGenerator-4 ERROR!\n",
      "# unix_time total_inputs\n",
      "bcel\n",
      "# unix_time all_covered_probes\n",
      "rhino-ei-testWithReversedGenerator-0 ERROR!\n",
      "rhino-ei-testWithReversedGenerator-1 ERROR!\n",
      "rhino-ei-testWithReversedGenerator-2 ERROR!\n",
      "rhino-ei-testWithReversedGenerator-3 ERROR!\n",
      "rhino-ei-testWithReversedGenerator-4 ERROR!\n",
      "rhino-ei-testWithGenerator-0 ERROR!\n",
      "rhino-ei-testWithGenerator-1 ERROR!\n",
      "rhino-ei-testWithGenerator-2 ERROR!\n",
      "rhino-ei-testWithGenerator-3 ERROR!\n",
      "rhino-ei-testWithGenerator-4 ERROR!\n",
      "rhino-zest-testWithReversedGenerator-0 ERROR!\n",
      "rhino-zest-testWithReversedGenerator-1 ERROR!\n",
      "rhino-zest-testWithReversedGenerator-2 ERROR!\n",
      "rhino-zest-testWithReversedGenerator-3 ERROR!\n",
      "rhino-zest-testWithReversedGenerator-4 ERROR!\n",
      "rhino-zest-testWithGenerator-0 ERROR!\n",
      "rhino-zest-testWithGenerator-1 ERROR!\n",
      "rhino-zest-testWithGenerator-2 ERROR!\n",
      "rhino-zest-testWithGenerator-3 ERROR!\n",
      "rhino-zest-testWithGenerator-4 ERROR!\n",
      "# unix_time total_inputs\n",
      "rhino\n",
      "# unix_time all_covered_probes\n",
      "closure-ei-testWithReversedGenerator-0 ERROR!\n",
      "closure-ei-testWithReversedGenerator-1 ERROR!\n",
      "closure-ei-testWithReversedGenerator-2 ERROR!\n",
      "closure-ei-testWithReversedGenerator-3 ERROR!\n",
      "closure-ei-testWithReversedGenerator-4 ERROR!\n",
      "closure-ei-testWithGenerator-0 ERROR!\n",
      "closure-ei-testWithGenerator-1 ERROR!\n",
      "closure-ei-testWithGenerator-2 ERROR!\n",
      "closure-ei-testWithGenerator-3 ERROR!\n",
      "closure-ei-testWithGenerator-4 ERROR!\n",
      "closure-zest-testWithReversedGenerator-0 ERROR!\n",
      "closure-zest-testWithReversedGenerator-1 ERROR!\n",
      "closure-zest-testWithReversedGenerator-2 ERROR!\n",
      "closure-zest-testWithReversedGenerator-3 ERROR!\n",
      "closure-zest-testWithReversedGenerator-4 ERROR!\n",
      "closure-zest-testWithGenerator-0 ERROR!\n",
      "closure-zest-testWithGenerator-1 ERROR!\n",
      "closure-zest-testWithGenerator-2 ERROR!\n",
      "closure-zest-testWithGenerator-3 ERROR!\n",
      "closure-zest-testWithGenerator-4 ERROR!\n",
      "# unix_time total_inputs\n",
      "closure\n",
      "# unix_time all_covered_probes\n"
     ]
    },
    {
     "data": {
      "text/plain": [
       "<Figure size 288x216 with 0 Axes>"
      ]
     },
     "metadata": {},
     "output_type": "display_data"
    }
   ],
   "source": [
    "from process_data import generate_graph\n",
    "\n",
    "generate_graph(data_dirs, algorithms, output_dir)"
   ]
  },
  {
   "cell_type": "code",
   "execution_count": 41,
   "metadata": {},
   "outputs": [
    {
     "data": {
      "text/plain": [
       "<Figure size 288x216 with 0 Axes>"
      ]
     },
     "metadata": {},
     "output_type": "display_data"
    }
   ],
   "source": [
    "from process_data import generate_corpus_exec_time, generate_perf_graph\n",
    "\n",
    "generate_perf_graph(data_dirs, algorithms, output_dir, \"exec_time\")"
   ]
  },
  {
   "cell_type": "code",
   "execution_count": 5,
   "metadata": {},
   "outputs": [
    {
     "data": {
      "text/plain": [
       "<Figure size 432x216 with 0 Axes>"
      ]
     },
     "metadata": {},
     "output_type": "display_data"
    }
   ],
   "source": [
    "\n",
    "from process_data import generate_corpus_exec_time, generate_perf_graph\n",
    "\n",
    "\n",
    "data_dir = os.path.join(os.path.expanduser(\"~\"), \"repos/cloudlab/results-JQF/ei-48h-11-22-p\")\n",
    "generate_perf_graph(data_dir, algorithms, output_dir, \"perf\")"
   ]
  }
 ],
 "metadata": {
  "kernelspec": {
   "display_name": "Python 3.9.6 64-bit",
   "language": "python",
   "name": "python3"
  },
  "language_info": {
   "codemirror_mode": {
    "name": "ipython",
    "version": 3
   },
   "file_extension": ".py",
   "mimetype": "text/x-python",
   "name": "python",
   "nbconvert_exporter": "python",
   "pygments_lexer": "ipython3",
   "version": "3.8.10"
  },
  "orig_nbformat": 4,
  "vscode": {
   "interpreter": {
    "hash": "31f2aee4e71d21fbe5cf8b01ff0e069b9275f58929596ceb00d14d90e3e16cd6"
   }
  }
 },
 "nbformat": 4,
 "nbformat_minor": 2
}
