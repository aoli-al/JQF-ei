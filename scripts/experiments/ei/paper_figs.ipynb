{
 "cells": [
  {
   "cell_type": "code",
   "execution_count": 1,
   "metadata": {},
   "outputs": [],
   "source": [
    "import matplotlib.pyplot as plt\n",
    "import numpy as np\n",
    "import numpy.polynomial.polynomial as poly\n",
    "import seaborn as sns\n",
    "import re\n",
    "import os\n",
    "import json\n",
    "import re\n",
    "import jsonpickle\n",
    "import sys\n",
    "import graphviz\n",
    "import glob\n",
    "from statistics import mean, stdev, median\n",
    "sys.path.append(r'..')\n",
    "\n",
    "output_dir = os.path.join(os.path.expanduser(\"~\"), \"repos/ei-paper/figs\")\n",
    "# data_dir = os.path.join(os.path.expanduser(\"~\"), \"repos/cloudlab/results-JQF/merged\")\n",
    "data_dir = os.path.join(os.path.expanduser(\"~\"), \"/usr0/home/aoli/repos/cloudlab/results-JQF/ei-12h-11-29\")"
   ]
  },
  {
   "cell_type": "code",
   "execution_count": 2,
   "metadata": {},
   "outputs": [
    {
     "name": "stdout",
     "output_type": "stream",
     "text": [
      "Identified algorithms:  {'zest-fast', 'mix', 'mix-no-havoc'}\n"
     ]
    },
    {
     "data": {
      "image/png": "[encoded data removed]",
      "text/plain": [
       "<Figure size 360x72 with 1 Axes>"
      ]
     },
     "metadata": {},
     "output_type": "display_data"
    }
   ],
   "source": [
    "%load_ext autoreload\n",
    "%autoreload 2\n",
    "import sns_configs\n",
    "from process_data import identify_algorithms\n",
    "\n",
    "algorithms = identify_algorithms(data_dir)\n",
    "print(\"Identified algorithms: \", algorithms)"
   ]
  },
  {
   "cell_type": "code",
   "execution_count": 3,
   "metadata": {},
   "outputs": [
    {
     "name": "stdout",
     "output_type": "stream",
     "text": [
      "\\begin{array}{l | l | r | l} \\hline\n",
      "    \\verb|Dataset| & \\verb|      Zest       | & \\verb| Mix | & \\verb|  Mix-No-Havoc  | \\\\ \\hline\n",
      "    \\hline\n",
      "    ant     &              5788 &  5784 & \\cellgreen{5795} \\\\ \\hline\n",
      "    bcel    & \\cellgreen{4002}  &  3989 &             3996 \\\\ \\hline\n",
      "    rhino   & \\cellgreen{8317}  &  8103 &             7889 \\\\ \\hline\n",
      "    closure & \\cellgreen{24742} & 24501 &            24700 \\\\ \\hline\n",
      "\\end{array}\n",
      "\\begin{array}{l | r | r | r} \\hline\n",
      "    \\verb|Dataset| & \\verb|Zest| & \\verb|Mix| & \\verb|Mix-No-Havoc| \\\\ \\hline\n",
      "    \\hline\n",
      "    ant     &   10 &   6 &           16 \\\\ \\hline\n",
      "    bcel    &   20 &   7 &           11 \\\\ \\hline\n",
      "    rhino   &  249 &  35 &           22 \\\\ \\hline\n",
      "    closure &  403 & 162 &          144 \\\\ \\hline\n",
      "\\end{array}\n"
     ]
    }
   ],
   "source": [
    "from process_data import generate_cov_table\n",
    "\n",
    "generate_cov_table(data_dir, algorithms, output_dir)"
   ]
  },
  {
   "cell_type": "code",
   "execution_count": 9,
   "metadata": {},
   "outputs": [
    {
     "name": "stdout",
     "output_type": "stream",
     "text": [
      "# unix_time total_inputs\n",
      "# unix_time all_covered_probes\n",
      "# unix_time total_inputs\n",
      "# unix_time all_covered_probes\n",
      "# unix_time total_inputs\n",
      "# unix_time all_covered_probes\n",
      "# unix_time total_inputs\n",
      "# unix_time all_covered_probes\n",
      "# unix_time total_inputs\n",
      "# unix_time all_covered_probes\n"
     ]
    },
    {
     "data": {
      "text/plain": [
       "<Figure size 432x216 with 0 Axes>"
      ]
     },
     "metadata": {},
     "output_type": "display_data"
    }
   ],
   "source": [
    "from process_data import generate_graph\n",
    "\n",
    "generate_graph(data_dir, algorithms, output_dir)"
   ]
  },
  {
   "cell_type": "code",
   "execution_count": 11,
   "metadata": {},
   "outputs": [
    {
     "data": {
      "text/plain": [
       "<Figure size 432x216 with 0 Axes>"
      ]
     },
     "metadata": {},
     "output_type": "display_data"
    }
   ],
   "source": [
    "from process_data import generate_corpus_exec_time, generate_perf_graph\n",
    "\n",
    "generate_perf_graph(data_dir, algorithms, output_dir, \"exec_time\")"
   ]
  },
  {
   "cell_type": "code",
   "execution_count": 5,
   "metadata": {},
   "outputs": [
    {
     "data": {
      "text/plain": [
       "<Figure size 432x216 with 0 Axes>"
      ]
     },
     "metadata": {},
     "output_type": "display_data"
    }
   ],
   "source": [
    "\n",
    "from process_data import generate_corpus_exec_time, generate_perf_graph\n",
    "\n",
    "\n",
    "data_dir = os.path.join(os.path.expanduser(\"~\"), \"repos/cloudlab/results-JQF/ei-48h-11-22-p\")\n",
    "generate_perf_graph(data_dir, algorithms, output_dir, \"perf\")"
   ]
  }
 ],
 "metadata": {
  "kernelspec": {
   "display_name": "Python 3.9.6 64-bit",
   "language": "python",
   "name": "python3"
  },
  "language_info": {
   "codemirror_mode": {
    "name": "ipython",
    "version": 3
   },
   "file_extension": ".py",
   "mimetype": "text/x-python",
   "name": "python",
   "nbconvert_exporter": "python",
   "pygments_lexer": "ipython3",
   "version": "3.8.10"
  },
  "orig_nbformat": 4,
  "vscode": {
   "interpreter": {
    "hash": "31f2aee4e71d21fbe5cf8b01ff0e069b9275f58929596ceb00d14d90e3e16cd6"
   }
  }
 },
 "nbformat": 4,
 "nbformat_minor": 2
}
